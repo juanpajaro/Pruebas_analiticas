{
  "nbformat": 4,
  "nbformat_minor": 0,
  "metadata": {
    "colab": {
      "provenance": [],
      "authorship_tag": "ABX9TyPTcyFt3Swt97wYURvX5yWk",
      "include_colab_link": true
    },
    "kernelspec": {
      "name": "python3",
      "display_name": "Python 3"
    },
    "language_info": {
      "name": "python"
    }
  },
  "cells": [
    {
      "cell_type": "markdown",
      "metadata": {
        "id": "view-in-github",
        "colab_type": "text"
      },
      "source": [
        "<a href=\"https://colab.research.google.com/github/juanpajaro/Pruebas_analiticas/blob/main/Ejemplo_visualizacion.ipynb\" target=\"_parent\"><img src=\"https://colab.research.google.com/assets/colab-badge.svg\" alt=\"Open In Colab\"/></a>"
      ]
    },
    {
      "cell_type": "code",
      "source": [
        "import matplotlib.pyplot as plt\n",
        "from sklearn.datasets import load_digits\n",
        "from sklearn.decomposition import PCA\n",
        "from sklearn.manifold import TSNE"
      ],
      "metadata": {
        "id": "txkfUv85hCFG"
      },
      "execution_count": null,
      "outputs": []
    },
    {
      "cell_type": "code",
      "source": [
        "# 1. Cargar dataset\n",
        "digits = load_digits()\n",
        "X = digits.data   # datos (64 variables por imagen 8x8)\n",
        "y = digits.target # etiquetas (0-9)"
      ],
      "metadata": {
        "id": "lBKq1OUOhEpl"
      },
      "execution_count": null,
      "outputs": []
    },
    {
      "cell_type": "code",
      "source": [
        "# 2. PCA a 2D\n",
        "pca = PCA(n_components=2)\n",
        "X_pca = pca.fit_transform(X)"
      ],
      "metadata": {
        "id": "YCQKAkaQhG0Y"
      },
      "execution_count": null,
      "outputs": []
    },
    {
      "cell_type": "code",
      "source": [
        "# 3. t-SNE a 2D\n",
        "tsne = TSNE(n_components=2, perplexity=30, n_iter=1000, random_state=42)\n",
        "X_tsne = tsne.fit_transform(X)"
      ],
      "metadata": {
        "id": "fBxCxbpWhHoA"
      },
      "execution_count": null,
      "outputs": []
    },
    {
      "cell_type": "code",
      "execution_count": null,
      "metadata": {
        "id": "oDZ1XLwgf8K-"
      },
      "outputs": [],
      "source": [
        "# 4. Graficar resultados\n",
        "fig, axes = plt.subplots(1, 2, figsize=(12, 5))\n",
        "\n",
        "# PCA\n",
        "scatter1 = axes[0].scatter(X_pca[:,0], X_pca[:,1], c=y, cmap=\"tab10\", s=15)\n",
        "axes[0].set_title(\"PCA (2D)\")\n",
        "legend1 = axes[0].legend(*scatter1.legend_elements(), title=\"Digits\")\n",
        "axes[0].add_artist(legend1)\n",
        "\n",
        "# t-SNE\n",
        "scatter2 = axes[1].scatter(X_tsne[:,0], X_tsne[:,1], c=y, cmap=\"tab10\", s=15)\n",
        "axes[1].set_title(\"t-SNE (2D)\")\n",
        "legend2 = axes[1].legend(*scatter2.legend_elements(), title=\"Digits\")\n",
        "axes[1].add_artist(legend2)\n",
        "\n",
        "plt.show()\n"
      ]
    }
  ]
}